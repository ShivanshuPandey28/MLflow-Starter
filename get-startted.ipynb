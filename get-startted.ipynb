{
 "cells": [
  {
   "cell_type": "markdown",
   "id": "f9f8363d",
   "metadata": {},
   "source": [
    "## MLFlow Tracking Server "
   ]
  },
  {
   "cell_type": "code",
   "execution_count": 1,
   "id": "75a36486",
   "metadata": {},
   "outputs": [],
   "source": [
    "import mlflow"
   ]
  },
  {
   "cell_type": "code",
   "execution_count": 2,
   "id": "1b11ffe4",
   "metadata": {},
   "outputs": [],
   "source": [
    "mlflow.set_tracking_uri(\"http://127.0.0.1:5000\")"
   ]
  },
  {
   "cell_type": "code",
   "execution_count": 3,
   "id": "f33407ab",
   "metadata": {},
   "outputs": [
    {
     "name": "stderr",
     "output_type": "stream",
     "text": [
      "2025/06/12 22:54:17 INFO mlflow.tracking.fluent: Experiment with name 'Check Localhost Tracking URI' does not exist. Creating a new experiment.\n"
     ]
    },
    {
     "name": "stdout",
     "output_type": "stream",
     "text": [
      "🏃 View run sincere-fish-665 at: http://127.0.0.1:5000/#/experiments/364949711835281198/runs/c1ba62eb51fe459a9a94f0aeace92550\n",
      "🧪 View experiment at: http://127.0.0.1:5000/#/experiments/364949711835281198\n"
     ]
    }
   ],
   "source": [
    "mlflow.set_experiment(\"Check Localhost Tracking URI\")\n",
    "\n",
    "with mlflow.start_run():\n",
    "    mlflow.log_metric(\"Shiva\", 1)\n",
    "    mlflow.log_metric(\"Anya\", 2)"
   ]
  },
  {
   "cell_type": "code",
   "execution_count": 4,
   "id": "e6b65fae",
   "metadata": {},
   "outputs": [
    {
     "name": "stdout",
     "output_type": "stream",
     "text": [
      "🏃 View run bemused-wren-816 at: http://127.0.0.1:5000/#/experiments/364949711835281198/runs/62a378df0ff648bb999e5cf84b138161\n",
      "🧪 View experiment at: http://127.0.0.1:5000/#/experiments/364949711835281198\n"
     ]
    }
   ],
   "source": [
    "with mlflow.start_run():\n",
    "    mlflow.log_metric(\"capsid\", 1)\n",
    "    mlflow.log_metric(\"xlash\", 2)"
   ]
  },
  {
   "cell_type": "code",
   "execution_count": null,
   "id": "001e784b",
   "metadata": {},
   "outputs": [],
   "source": []
  }
 ],
 "metadata": {
  "kernelspec": {
   "display_name": "Python 3",
   "language": "python",
   "name": "python3"
  },
  "language_info": {
   "codemirror_mode": {
    "name": "ipython",
    "version": 3
   },
   "file_extension": ".py",
   "mimetype": "text/x-python",
   "name": "python",
   "nbconvert_exporter": "python",
   "pygments_lexer": "ipython3",
   "version": "3.10.0"
  }
 },
 "nbformat": 4,
 "nbformat_minor": 5
}
